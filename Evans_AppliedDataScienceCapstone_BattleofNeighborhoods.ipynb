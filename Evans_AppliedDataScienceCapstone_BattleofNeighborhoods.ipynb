{
 "cells": [
  {
   "cell_type": "markdown",
   "metadata": {},
   "source": [
    "# Introduction"
   ]
  },
  {
   "cell_type": "markdown",
   "metadata": {},
   "source": [
    "#### Problem: Where to put a park?\n",
    "\n",
    "I've been watching Parks and Recreation during these strange times of Covid-19 and needing to stay home. For this project, it has inspired me to pretend to take on the role of a government employee tasked with the job of finding a neighborhood in need of a new park. I'd also want to find neighborhoods in the same area that have parks listed as a popular venue, that way we can have a better idea of what makes those parks popular to inform how we design our new park in the identified neighborhood. For this task, I'm setting aside potential problems like land availability, zoning issues, etc. and just focusing on identifying potential neighborhoods for a new park and learning about neighborhoods with existing popular parks. The stakeholders for this work would be the communities that would benefit from the park, and my employer (assuming some sort of parks & rec department) would be interested in the results to help inform their park placement and design."
   ]
  },
  {
   "cell_type": "markdown",
   "metadata": {},
   "source": [
    "# Data"
   ]
  },
  {
   "cell_type": "markdown",
   "metadata": {},
   "source": [
    "#### Focus Area\n",
    "\n",
    "I've picked Boston, MA as a city to conduct my analysis. I figured there would be abundant data available online to accompany the foursquare venue data if I pick a major city, and I've spent enough time in Boston where the landscape is familiar to me.\n",
    "\n",
    "#### Foursquare Data\n",
    "\n",
    "I saw from the Toronto assignment that parks is an option for a type of venue. I essentially plan on following the same procedure that we were assigned for the Manhattan and Toronto neighborhoods, but this time conducting the analysis for Boston, MA and paying attention for areas with parks listed as one of the most popular and least popular venues (currently planning to look at the top 3 and bottom 3). This will help give me an idea of which neighborhoods may be in need of a new park, as well as give me neighborhoods with existing popular parks that I can examinine and learn from. The k-means clusters will group the neighborhoods by popular venues to help me identify these neighborhoods.\n",
    "\n",
    "#### Other Data \n",
    "\n",
    "If I have trouble assigning geodata to the neighborhoods using the Geocoder Python package, I may need a CSV or other geospatial file to join with the foursquare neighborhood data. It may also be nice to acquire a geospatial file of the existing parks in Boston to map along with the neighborhoods to help make a more informative map. This park dataset my also have some interesting data that could help inform the new park's design, like the size of existing parks. For example, a quick google search found me this \"open space\" data on the Analyze Boston website: https://data.boston.gov/dataset/open-space. According to the metadata (https://drive.google.com/file/d/1up1gAouGI4R6rcXFFpsZQC76ZthqSnMu/view), this file contains attributes for \"ACRES\" and \"TYPELONG\" that will be useful for examining the features of existing parks. "
   ]
  },
  {
   "cell_type": "code",
   "execution_count": null,
   "metadata": {},
   "outputs": [],
   "source": []
  }
 ],
 "metadata": {
  "kernelspec": {
   "display_name": "Python 3",
   "language": "python",
   "name": "python3"
  },
  "language_info": {
   "codemirror_mode": {
    "name": "ipython",
    "version": 3
   },
   "file_extension": ".py",
   "mimetype": "text/x-python",
   "name": "python",
   "nbconvert_exporter": "python",
   "pygments_lexer": "ipython3",
   "version": "3.7.4"
  }
 },
 "nbformat": 4,
 "nbformat_minor": 2
}
